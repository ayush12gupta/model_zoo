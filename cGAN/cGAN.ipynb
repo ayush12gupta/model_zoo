{
  "nbformat": 4,
  "nbformat_minor": 0,
  "metadata": {
    "colab": {
      "name": "cGAN.ipynb",
      "provenance": [],
      "collapsed_sections": [],
      "include_colab_link": true
    },
    "kernelspec": {
      "name": "python3",
      "display_name": "Python 3"
    },
    "accelerator": "GPU",
    "widgets": {
      "application/vnd.jupyter.widget-state+json": {
        "9b9a557c58e44bcc9a3067693e0baf68": {
          "model_module": "@jupyter-widgets/controls",
          "model_name": "HBoxModel",
          "state": {
            "_view_name": "HBoxView",
            "_dom_classes": [],
            "_model_name": "HBoxModel",
            "_view_module": "@jupyter-widgets/controls",
            "_model_module_version": "1.5.0",
            "_view_count": null,
            "_view_module_version": "1.5.0",
            "box_style": "",
            "layout": "IPY_MODEL_27cf65e07a5d4bcd9c4130ec553b695c",
            "_model_module": "@jupyter-widgets/controls",
            "children": [
              "IPY_MODEL_d2fe38de37e54ed78bc1de691c36ed42",
              "IPY_MODEL_2680ee20350d42788cb13e9545887515"
            ]
          }
        },
        "27cf65e07a5d4bcd9c4130ec553b695c": {
          "model_module": "@jupyter-widgets/base",
          "model_name": "LayoutModel",
          "state": {
            "_view_name": "LayoutView",
            "grid_template_rows": null,
            "right": null,
            "justify_content": null,
            "_view_module": "@jupyter-widgets/base",
            "overflow": null,
            "_model_module_version": "1.2.0",
            "_view_count": null,
            "flex_flow": null,
            "width": null,
            "min_width": null,
            "border": null,
            "align_items": null,
            "bottom": null,
            "_model_module": "@jupyter-widgets/base",
            "top": null,
            "grid_column": null,
            "overflow_y": null,
            "overflow_x": null,
            "grid_auto_flow": null,
            "grid_area": null,
            "grid_template_columns": null,
            "flex": null,
            "_model_name": "LayoutModel",
            "justify_items": null,
            "grid_row": null,
            "max_height": null,
            "align_content": null,
            "visibility": null,
            "align_self": null,
            "height": null,
            "min_height": null,
            "padding": null,
            "grid_auto_rows": null,
            "grid_gap": null,
            "max_width": null,
            "order": null,
            "_view_module_version": "1.2.0",
            "grid_template_areas": null,
            "object_position": null,
            "object_fit": null,
            "grid_auto_columns": null,
            "margin": null,
            "display": null,
            "left": null
          }
        },
        "d2fe38de37e54ed78bc1de691c36ed42": {
          "model_module": "@jupyter-widgets/controls",
          "model_name": "FloatProgressModel",
          "state": {
            "_view_name": "ProgressView",
            "style": "IPY_MODEL_fe3f7b43cd594d70a6408664564e991f",
            "_dom_classes": [],
            "description": "",
            "_model_name": "FloatProgressModel",
            "bar_style": "info",
            "max": 1,
            "_view_module": "@jupyter-widgets/controls",
            "_model_module_version": "1.5.0",
            "value": 0,
            "_view_count": null,
            "_view_module_version": "1.5.0",
            "orientation": "horizontal",
            "min": 0,
            "description_tooltip": null,
            "_model_module": "@jupyter-widgets/controls",
            "layout": "IPY_MODEL_ce3e3dc975324df8a5e4e11618b6b7ec"
          }
        },
        "2680ee20350d42788cb13e9545887515": {
          "model_module": "@jupyter-widgets/controls",
          "model_name": "HTMLModel",
          "state": {
            "_view_name": "HTMLView",
            "style": "IPY_MODEL_0e8ab9909b78441ca2687438bb36ff0c",
            "_dom_classes": [],
            "description": "",
            "_model_name": "HTMLModel",
            "placeholder": "​",
            "_view_module": "@jupyter-widgets/controls",
            "_model_module_version": "1.5.0",
            "value": " 0/? [00:00&lt;?, ?it/s]",
            "_view_count": null,
            "_view_module_version": "1.5.0",
            "description_tooltip": null,
            "_model_module": "@jupyter-widgets/controls",
            "layout": "IPY_MODEL_a507f54e8f9242df890716d06173a420"
          }
        },
        "fe3f7b43cd594d70a6408664564e991f": {
          "model_module": "@jupyter-widgets/controls",
          "model_name": "ProgressStyleModel",
          "state": {
            "_view_name": "StyleView",
            "_model_name": "ProgressStyleModel",
            "description_width": "initial",
            "_view_module": "@jupyter-widgets/base",
            "_model_module_version": "1.5.0",
            "_view_count": null,
            "_view_module_version": "1.2.0",
            "bar_color": null,
            "_model_module": "@jupyter-widgets/controls"
          }
        },
        "ce3e3dc975324df8a5e4e11618b6b7ec": {
          "model_module": "@jupyter-widgets/base",
          "model_name": "LayoutModel",
          "state": {
            "_view_name": "LayoutView",
            "grid_template_rows": null,
            "right": null,
            "justify_content": null,
            "_view_module": "@jupyter-widgets/base",
            "overflow": null,
            "_model_module_version": "1.2.0",
            "_view_count": null,
            "flex_flow": null,
            "width": null,
            "min_width": null,
            "border": null,
            "align_items": null,
            "bottom": null,
            "_model_module": "@jupyter-widgets/base",
            "top": null,
            "grid_column": null,
            "overflow_y": null,
            "overflow_x": null,
            "grid_auto_flow": null,
            "grid_area": null,
            "grid_template_columns": null,
            "flex": null,
            "_model_name": "LayoutModel",
            "justify_items": null,
            "grid_row": null,
            "max_height": null,
            "align_content": null,
            "visibility": null,
            "align_self": null,
            "height": null,
            "min_height": null,
            "padding": null,
            "grid_auto_rows": null,
            "grid_gap": null,
            "max_width": null,
            "order": null,
            "_view_module_version": "1.2.0",
            "grid_template_areas": null,
            "object_position": null,
            "object_fit": null,
            "grid_auto_columns": null,
            "margin": null,
            "display": null,
            "left": null
          }
        },
        "0e8ab9909b78441ca2687438bb36ff0c": {
          "model_module": "@jupyter-widgets/controls",
          "model_name": "DescriptionStyleModel",
          "state": {
            "_view_name": "StyleView",
            "_model_name": "DescriptionStyleModel",
            "description_width": "",
            "_view_module": "@jupyter-widgets/base",
            "_model_module_version": "1.5.0",
            "_view_count": null,
            "_view_module_version": "1.2.0",
            "_model_module": "@jupyter-widgets/controls"
          }
        },
        "a507f54e8f9242df890716d06173a420": {
          "model_module": "@jupyter-widgets/base",
          "model_name": "LayoutModel",
          "state": {
            "_view_name": "LayoutView",
            "grid_template_rows": null,
            "right": null,
            "justify_content": null,
            "_view_module": "@jupyter-widgets/base",
            "overflow": null,
            "_model_module_version": "1.2.0",
            "_view_count": null,
            "flex_flow": null,
            "width": null,
            "min_width": null,
            "border": null,
            "align_items": null,
            "bottom": null,
            "_model_module": "@jupyter-widgets/base",
            "top": null,
            "grid_column": null,
            "overflow_y": null,
            "overflow_x": null,
            "grid_auto_flow": null,
            "grid_area": null,
            "grid_template_columns": null,
            "flex": null,
            "_model_name": "LayoutModel",
            "justify_items": null,
            "grid_row": null,
            "max_height": null,
            "align_content": null,
            "visibility": null,
            "align_self": null,
            "height": null,
            "min_height": null,
            "padding": null,
            "grid_auto_rows": null,
            "grid_gap": null,
            "max_width": null,
            "order": null,
            "_view_module_version": "1.2.0",
            "grid_template_areas": null,
            "object_position": null,
            "object_fit": null,
            "grid_auto_columns": null,
            "margin": null,
            "display": null,
            "left": null
          }
        },
        "903ef33b8dbf41e1878afdf5380e149f": {
          "model_module": "@jupyter-widgets/controls",
          "model_name": "HBoxModel",
          "state": {
            "_view_name": "HBoxView",
            "_dom_classes": [],
            "_model_name": "HBoxModel",
            "_view_module": "@jupyter-widgets/controls",
            "_model_module_version": "1.5.0",
            "_view_count": null,
            "_view_module_version": "1.5.0",
            "box_style": "",
            "layout": "IPY_MODEL_9a0ee155b7af4899a88f79a0071dbdeb",
            "_model_module": "@jupyter-widgets/controls",
            "children": [
              "IPY_MODEL_ead10bd9415e40d8bb61ffde8115f2e5",
              "IPY_MODEL_72af092288944aa7b65d0172f464a983"
            ]
          }
        },
        "9a0ee155b7af4899a88f79a0071dbdeb": {
          "model_module": "@jupyter-widgets/base",
          "model_name": "LayoutModel",
          "state": {
            "_view_name": "LayoutView",
            "grid_template_rows": null,
            "right": null,
            "justify_content": null,
            "_view_module": "@jupyter-widgets/base",
            "overflow": null,
            "_model_module_version": "1.2.0",
            "_view_count": null,
            "flex_flow": null,
            "width": null,
            "min_width": null,
            "border": null,
            "align_items": null,
            "bottom": null,
            "_model_module": "@jupyter-widgets/base",
            "top": null,
            "grid_column": null,
            "overflow_y": null,
            "overflow_x": null,
            "grid_auto_flow": null,
            "grid_area": null,
            "grid_template_columns": null,
            "flex": null,
            "_model_name": "LayoutModel",
            "justify_items": null,
            "grid_row": null,
            "max_height": null,
            "align_content": null,
            "visibility": null,
            "align_self": null,
            "height": null,
            "min_height": null,
            "padding": null,
            "grid_auto_rows": null,
            "grid_gap": null,
            "max_width": null,
            "order": null,
            "_view_module_version": "1.2.0",
            "grid_template_areas": null,
            "object_position": null,
            "object_fit": null,
            "grid_auto_columns": null,
            "margin": null,
            "display": null,
            "left": null
          }
        },
        "ead10bd9415e40d8bb61ffde8115f2e5": {
          "model_module": "@jupyter-widgets/controls",
          "model_name": "FloatProgressModel",
          "state": {
            "_view_name": "ProgressView",
            "style": "IPY_MODEL_c4fe0e0b7ac94eb5819c2d2f46238905",
            "_dom_classes": [],
            "description": "",
            "_model_name": "FloatProgressModel",
            "bar_style": "info",
            "max": 1,
            "_view_module": "@jupyter-widgets/controls",
            "_model_module_version": "1.5.0",
            "value": 1,
            "_view_count": null,
            "_view_module_version": "1.5.0",
            "orientation": "horizontal",
            "min": 0,
            "description_tooltip": null,
            "_model_module": "@jupyter-widgets/controls",
            "layout": "IPY_MODEL_e31fb3e5bff54232b7c788becd36b0a5"
          }
        },
        "72af092288944aa7b65d0172f464a983": {
          "model_module": "@jupyter-widgets/controls",
          "model_name": "HTMLModel",
          "state": {
            "_view_name": "HTMLView",
            "style": "IPY_MODEL_aff40d73d5564569b06f0a22fcd049c5",
            "_dom_classes": [],
            "description": "",
            "_model_name": "HTMLModel",
            "placeholder": "​",
            "_view_module": "@jupyter-widgets/controls",
            "_model_module_version": "1.5.0",
            "value": " 170500096/? [00:19&lt;00:00, 51397478.01it/s]",
            "_view_count": null,
            "_view_module_version": "1.5.0",
            "description_tooltip": null,
            "_model_module": "@jupyter-widgets/controls",
            "layout": "IPY_MODEL_bbfc7a8fb6ae4513bad9a00eeb9d6a8a"
          }
        },
        "c4fe0e0b7ac94eb5819c2d2f46238905": {
          "model_module": "@jupyter-widgets/controls",
          "model_name": "ProgressStyleModel",
          "state": {
            "_view_name": "StyleView",
            "_model_name": "ProgressStyleModel",
            "description_width": "initial",
            "_view_module": "@jupyter-widgets/base",
            "_model_module_version": "1.5.0",
            "_view_count": null,
            "_view_module_version": "1.2.0",
            "bar_color": null,
            "_model_module": "@jupyter-widgets/controls"
          }
        },
        "e31fb3e5bff54232b7c788becd36b0a5": {
          "model_module": "@jupyter-widgets/base",
          "model_name": "LayoutModel",
          "state": {
            "_view_name": "LayoutView",
            "grid_template_rows": null,
            "right": null,
            "justify_content": null,
            "_view_module": "@jupyter-widgets/base",
            "overflow": null,
            "_model_module_version": "1.2.0",
            "_view_count": null,
            "flex_flow": null,
            "width": null,
            "min_width": null,
            "border": null,
            "align_items": null,
            "bottom": null,
            "_model_module": "@jupyter-widgets/base",
            "top": null,
            "grid_column": null,
            "overflow_y": null,
            "overflow_x": null,
            "grid_auto_flow": null,
            "grid_area": null,
            "grid_template_columns": null,
            "flex": null,
            "_model_name": "LayoutModel",
            "justify_items": null,
            "grid_row": null,
            "max_height": null,
            "align_content": null,
            "visibility": null,
            "align_self": null,
            "height": null,
            "min_height": null,
            "padding": null,
            "grid_auto_rows": null,
            "grid_gap": null,
            "max_width": null,
            "order": null,
            "_view_module_version": "1.2.0",
            "grid_template_areas": null,
            "object_position": null,
            "object_fit": null,
            "grid_auto_columns": null,
            "margin": null,
            "display": null,
            "left": null
          }
        },
        "aff40d73d5564569b06f0a22fcd049c5": {
          "model_module": "@jupyter-widgets/controls",
          "model_name": "DescriptionStyleModel",
          "state": {
            "_view_name": "StyleView",
            "_model_name": "DescriptionStyleModel",
            "description_width": "",
            "_view_module": "@jupyter-widgets/base",
            "_model_module_version": "1.5.0",
            "_view_count": null,
            "_view_module_version": "1.2.0",
            "_model_module": "@jupyter-widgets/controls"
          }
        },
        "bbfc7a8fb6ae4513bad9a00eeb9d6a8a": {
          "model_module": "@jupyter-widgets/base",
          "model_name": "LayoutModel",
          "state": {
            "_view_name": "LayoutView",
            "grid_template_rows": null,
            "right": null,
            "justify_content": null,
            "_view_module": "@jupyter-widgets/base",
            "overflow": null,
            "_model_module_version": "1.2.0",
            "_view_count": null,
            "flex_flow": null,
            "width": null,
            "min_width": null,
            "border": null,
            "align_items": null,
            "bottom": null,
            "_model_module": "@jupyter-widgets/base",
            "top": null,
            "grid_column": null,
            "overflow_y": null,
            "overflow_x": null,
            "grid_auto_flow": null,
            "grid_area": null,
            "grid_template_columns": null,
            "flex": null,
            "_model_name": "LayoutModel",
            "justify_items": null,
            "grid_row": null,
            "max_height": null,
            "align_content": null,
            "visibility": null,
            "align_self": null,
            "height": null,
            "min_height": null,
            "padding": null,
            "grid_auto_rows": null,
            "grid_gap": null,
            "max_width": null,
            "order": null,
            "_view_module_version": "1.2.0",
            "grid_template_areas": null,
            "object_position": null,
            "object_fit": null,
            "grid_auto_columns": null,
            "margin": null,
            "display": null,
            "left": null
          }
        }
      }
    }
  },
  "cells": [
    {
      "cell_type": "markdown",
      "metadata": {
        "id": "view-in-github",
        "colab_type": "text"
      },
      "source": [
        "<a href=\"https://colab.research.google.com/github/ayush12gupta/model_zoo/blob/master/cGAN/cGAN.ipynb\" target=\"_parent\"><img src=\"https://colab.research.google.com/assets/colab-badge.svg\" alt=\"Open In Colab\"/></a>"
      ]
    },
    {
      "cell_type": "code",
      "metadata": {
        "id": "Q7pBGa5SR_Ts",
        "colab_type": "code",
        "colab": {}
      },
      "source": [
        "import torch\n",
        "import torch.optim as opt\n",
        "import torch.nn as nn\n",
        "import torch.nn.functional as F\n",
        "import torchvision\n",
        "import torchvision.transforms as transforms\n",
        "import torchvision.utils as vutils\n",
        "\n",
        "from torchvision import datasets\n",
        "import torchsummary\n",
        "from torchsummary import summary\n",
        "from torch.autograd import Variable\n",
        "import time\n",
        "import numpy as np\n",
        "\n",
        "import matplotlib.pyplot as plt\n",
        "%matplotlib inline\n"
      ],
      "execution_count": 0,
      "outputs": []
    },
    {
      "cell_type": "code",
      "metadata": {
        "id": "MS4IpuzRZneR",
        "colab_type": "code",
        "colab": {
          "base_uri": "https://localhost:8080/",
          "height": 152,
          "referenced_widgets": [
            "9b9a557c58e44bcc9a3067693e0baf68",
            "27cf65e07a5d4bcd9c4130ec553b695c",
            "d2fe38de37e54ed78bc1de691c36ed42",
            "2680ee20350d42788cb13e9545887515",
            "fe3f7b43cd594d70a6408664564e991f",
            "ce3e3dc975324df8a5e4e11618b6b7ec",
            "0e8ab9909b78441ca2687438bb36ff0c",
            "a507f54e8f9242df890716d06173a420",
            "903ef33b8dbf41e1878afdf5380e149f",
            "9a0ee155b7af4899a88f79a0071dbdeb",
            "ead10bd9415e40d8bb61ffde8115f2e5",
            "72af092288944aa7b65d0172f464a983",
            "c4fe0e0b7ac94eb5819c2d2f46238905",
            "e31fb3e5bff54232b7c788becd36b0a5",
            "aff40d73d5564569b06f0a22fcd049c5",
            "bbfc7a8fb6ae4513bad9a00eeb9d6a8a"
          ]
        },
        "outputId": "7d2bdc2f-ea85-4505-ae7b-61c1b032dfd3"
      },
      "source": [
        "######## Dataset ###########\n",
        "dataset = datasets.CIFAR10(root='./content', train=True,download=True, \n",
        "     transform=transforms.Compose([transforms.Resize(32), \n",
        "         transforms.CenterCrop(32),\n",
        "         transforms.ToTensor(), \n",
        "         transforms.Normalize((0.5,), (0.5,))]))\n",
        "\n",
        "dataloader = torch.utils.data.DataLoader(dataset, batch_size = 32, shuffle=True)\n",
        "\n",
        "Epoch = 100\n",
        "channel = 3\n",
        "image_size = 32\n",
        "latent_dim = 100\n",
        "num_class = 10\n",
        "batch_size = 32\n",
        "device = 'cuda:0'\n",
        "image_shape = (channel, image_size, image_size)"
      ],
      "execution_count": 33,
      "outputs": [
        {
          "output_type": "stream",
          "text": [
            "Downloading https://www.cs.toronto.edu/~kriz/cifar-10-python.tar.gz to ./content/cifar-10-python.tar.gz\n"
          ],
          "name": "stdout"
        },
        {
          "output_type": "display_data",
          "data": {
            "application/vnd.jupyter.widget-view+json": {
              "model_id": "9b9a557c58e44bcc9a3067693e0baf68",
              "version_minor": 0,
              "version_major": 2
            },
            "text/plain": [
              "HBox(children=(FloatProgress(value=1.0, bar_style='info', max=1.0), HTML(value='')))"
            ]
          },
          "metadata": {
            "tags": []
          }
        },
        {
          "output_type": "stream",
          "text": [
            "Failed download. Trying https -> http instead. Downloading http://www.cs.toronto.edu/~kriz/cifar-10-python.tar.gz to ./content/cifar-10-python.tar.gz\n"
          ],
          "name": "stdout"
        },
        {
          "output_type": "display_data",
          "data": {
            "application/vnd.jupyter.widget-view+json": {
              "model_id": "903ef33b8dbf41e1878afdf5380e149f",
              "version_minor": 0,
              "version_major": 2
            },
            "text/plain": [
              "HBox(children=(FloatProgress(value=1.0, bar_style='info', max=1.0), HTML(value='')))"
            ]
          },
          "metadata": {
            "tags": []
          }
        },
        {
          "output_type": "stream",
          "text": [
            "Extracting ./content/cifar-10-python.tar.gz to ./content\n"
          ],
          "name": "stdout"
        }
      ]
    },
    {
      "cell_type": "code",
      "metadata": {
        "id": "aVns0U8_HiKu",
        "colab_type": "code",
        "colab": {}
      },
      "source": [
        "class Generator(nn.Module):\n",
        "  def __init__(self):\n",
        "    super(Generator, self).__init__()\n",
        "\n",
        "    self.label_embedding = nn.Embedding(10,10)\n",
        "    self.layer = 128\n",
        "\n",
        "    self.model = nn.Sequential(\n",
        "        nn.Linear(latent_dim+num_class, self.layer),\n",
        "        nn.BatchNorm1d(self.layer,0.8),\n",
        "        nn.LeakyReLU(0.2, inplace=True),\n",
        "        nn.Linear(self.layer, self.layer*2),\n",
        "        nn.BatchNorm1d(self.layer*2,0.8),\n",
        "        nn.LeakyReLU(0.2, inplace=True),\n",
        "        nn.Linear(self.layer*2, self.layer*4),\n",
        "        nn.BatchNorm1d(self.layer*4,0.8),\n",
        "        nn.LeakyReLU(0.2, inplace=True),\n",
        "        nn.Linear(self.layer*4, self.layer*8),\n",
        "        nn.BatchNorm1d(self.layer*8,0.8),\n",
        "        nn.LeakyReLU(0.2, inplace=True),\n",
        "        nn.Linear(self.layer*8,channel*image_size*image_size),\n",
        "        nn.Tanh()        \n",
        "    )  \n",
        "\n",
        "\n",
        "  def forward(self, noise, labels):\n",
        "    c = self.label_embedding(labels)\n",
        "    #print(noise.shape)\n",
        "    z = noise.view(noise.size(0),latent_dim)\n",
        "    x = torch.cat([c,z],1)\n",
        "    out = self.model(x)\n",
        "    return out.view(out.size(0),channel,image_size,image_size)"
      ],
      "execution_count": 0,
      "outputs": []
    },
    {
      "cell_type": "code",
      "metadata": {
        "id": "PPZQ0yHZkFMK",
        "colab_type": "code",
        "colab": {}
      },
      "source": [
        "class Discriminator(nn.Module):\n",
        "  def __init__(self):\n",
        "    super(Discriminator,self).__init__()\n",
        "    self.label_embedding = nn.Embedding(10,10)\n",
        "    self.layer = 256\n",
        "    \n",
        "    self.model = nn.Sequential(\n",
        "        nn.Linear(num_class+(channel*image_size*image_size),self.layer*4),\n",
        "        nn.LeakyReLU(0.2, inplace=True),\n",
        "        nn.Dropout(0.4),\n",
        "        nn.Linear(self.layer*4,self.layer*2),\n",
        "        nn.LeakyReLU(0.2, inplace=True),\n",
        "        nn.Dropout(0.4),\n",
        "        nn.Linear(self.layer*2,self.layer),\n",
        "        nn.LeakyReLU(0.2, inplace=True),\n",
        "        nn.Dropout(0.4),\n",
        "        nn.Linear(self.layer, 1),\n",
        "        nn.Sigmoid()\n",
        "    )\n",
        "\n",
        "\n",
        "  def forward(self, img, label):\n",
        "    x = img.view(img.size(0),-1)\n",
        "    #print(x.shape)\n",
        "    z = self.label_embedding(label)\n",
        "    x = torch.cat([x, z],1)\n",
        "    out = self.model(x)\n",
        "    return out"
      ],
      "execution_count": 0,
      "outputs": []
    },
    {
      "cell_type": "code",
      "metadata": {
        "id": "blajrzIHPUt-",
        "colab_type": "code",
        "colab": {}
      },
      "source": [
        "  def init_weights(m): \n",
        "    if type(m)==nn.Linear:\n",
        "        torch.nn.init.xavier_uniform(m.weight)\n",
        "        m.bias.data.fill_(0.01)"
      ],
      "execution_count": 0,
      "outputs": []
    },
    {
      "cell_type": "code",
      "metadata": {
        "id": "52WUSnROFlq8",
        "colab_type": "code",
        "outputId": "c72c232c-c84d-4e40-dd1f-85bc45c3fb74",
        "colab": {
          "base_uri": "https://localhost:8080/",
          "height": 71
        }
      },
      "source": [
        "generator = Generator().to(device)\n",
        "gen_optimizer = torch.optim.Adam(generator.parameters(), lr=0.0002, betas=(0.5, 0.999))\n",
        "discriminator = Discriminator().to(device)\n",
        "discriminator.apply(init_weights)\n",
        "d_optimizer = torch.optim.Adam(discriminator.parameters(), lr=0.0002, betas=(0.5, 0.999))\n",
        "\n",
        "# Loss functions \n",
        "a_loss = torch.nn.BCELoss()"
      ],
      "execution_count": 48,
      "outputs": [
        {
          "output_type": "stream",
          "text": [
            "/usr/local/lib/python3.6/dist-packages/ipykernel_launcher.py:3: UserWarning: nn.init.xavier_uniform is now deprecated in favor of nn.init.xavier_uniform_.\n",
            "  This is separate from the ipykernel package so we can avoid doing imports until\n"
          ],
          "name": "stderr"
        }
      ]
    },
    {
      "cell_type": "code",
      "metadata": {
        "id": "dfsPE6aIPoIM",
        "colab_type": "code",
        "colab": {}
      },
      "source": [
        "real_label = 0.9\n",
        "fake_label = 0.0\n",
        "\n",
        "label_type = torch.LongTensor\n",
        "img_type = torch.FloatTensor\n",
        "\n",
        "if device=='cuda:0': \n",
        "    generator.to(device)\n",
        "    discriminator.to(device)\n",
        "    a_loss.to(device)\n",
        "    label_type = torch.cuda.LongTensor\n",
        "    img_type = torch.cuda.FloatTensor\n"
      ],
      "execution_count": 0,
      "outputs": []
    },
    {
      "cell_type": "code",
      "metadata": {
        "id": "GEP-8i7pvIbG",
        "colab_type": "code",
        "colab": {}
      },
      "source": [
        "fix_noise = torch.FloatTensor(np.random.normal(0, 1,(batch_size, latent_dim))).to(device) # To evaluate on a particular noise\n",
        "fix_label = torch.LongTensor(np.random.randint(0, num_class, batch_size)).to(device)\n"
      ],
      "execution_count": 0,
      "outputs": []
    },
    {
      "cell_type": "code",
      "metadata": {
        "id": "FPym7kNwAeJe",
        "colab_type": "code",
        "colab": {}
      },
      "source": [
        "G_Loss_FM = G_losses\n",
        "D_Loss_FM = D_losses"
      ],
      "execution_count": 0,
      "outputs": []
    },
    {
      "cell_type": "code",
      "metadata": {
        "id": "1gHMkw6NsXes",
        "colab_type": "code",
        "outputId": "87c82146-0459-4ad7-da70-21bf9d1ae3b0",
        "colab": {
          "base_uri": "https://localhost:8080/",
          "height": 1000
        }
      },
      "source": [
        "G_losses = []\n",
        "D_losses = []\n",
        "for epoch in range(1,Epoch+1):\n",
        "  G_loss=0.\n",
        "  D_loss=0.\n",
        "  for i, data in enumerate(dataloader):\n",
        "    (imgs,labels) = data\n",
        "    batch_size = imgs.shape[0]\n",
        "    imgs = Variable(imgs.type(img_type))\n",
        "    labels = Variable(labels.type(label_type))\n",
        "\n",
        "    # Creating real and fake label for calculation of loss\n",
        "    r_label = Variable(img_type(batch_size,1).fill_(real_label)).to(device)\n",
        "    f_label = Variable(img_type(batch_size,1).fill_(fake_label)).to(device)\n",
        "\n",
        "    # Training Generator\n",
        "\n",
        "    gen_optimizer.zero_grad()\n",
        "\n",
        "    noise = Variable(img_type(np.random.normal(0, 1,(batch_size, latent_dim)))).to(device)\n",
        "    rand_label = Variable(label_type(np.random.randint(0, num_class, batch_size))).to(device)\n",
        "    dis = discriminator(generator(noise, rand_label),rand_label)\n",
        "    #print(type(dis),'  ',type(r_label))\n",
        "    g_loss = a_loss(dis,r_label)\n",
        "    g_loss.backward()\n",
        "    gen_optimizer.step()\n",
        "\n",
        "    # Training Discriminator\n",
        "\n",
        "    d_optimizer.zero_grad()\n",
        "\n",
        "    noise = Variable(img_type(np.random.normal(0, 1,(batch_size, latent_dim)))).to(device)\n",
        "    rand_label = Variable(label_type(np.random.randint(0, num_class, batch_size))).to(device)\n",
        "\n",
        "    d_real = discriminator(imgs, labels)\n",
        "    loss_real = a_loss(d_real, r_label)\n",
        "\n",
        "    d_fake = discriminator(generator(noise,rand_label).detach(),rand_label)\n",
        "    loss_fake = a_loss(d_fake, f_label)\n",
        "\n",
        "    d_loss = 0.5*(loss_fake+loss_real)\n",
        "\n",
        "    d_loss.backward()\n",
        "    d_optimizer.step()\n",
        "\n",
        "    G_loss += g_loss.item()\n",
        "    D_loss += d_loss.item()\n",
        "\n",
        "    if i%100 == 0: \n",
        "        \n",
        "        static_fake = generator(fix_noise, fix_label)\n",
        "        vutils.save_image(static_fake.detach(), '/content/drive/My Drive/cGAN/Image/fake_samples_epoch_%03d.png' % (epoch), normalize=True)\n",
        "\n",
        "  print('Epoch {} || G_loss: {} || D_loss: {}'.format(epoch,G_loss/(i+1),D_loss/(i+1)))\n",
        "  #print('Epoch {} || G_loss: {} || D_loss: {}'.format(epoch,g_loss.item(),d_loss.item()))\n",
        "  G_losses.append(G_loss/(i+1))\n",
        "  D_losses.append(D_loss/(i+1))\n",
        "  # static_fake = generator(fix_noise, fix_label)\n",
        "  # plt.imshow(static_fake.squeeze().detach().cpu(),normalize=True)#.view(channel,image_size,image_size\n",
        "  # plt.show()\n",
        "  # plt.savefig('/content/drive/My Drive/cGAN/Image/fake_samples_epoch_%03d.png' % (epoch))\n",
        "  # #Checkpoint\n",
        "  torch.save(generator.state_dict(),'/content/drive/My Drive/cGAN/generator/generator_epoch_{}_.pth'.format(epoch))\n",
        "  torch.save(discriminator.state_dict(),'/content/drive/My Drive/cGAN/discriminator/discriminator_epoch_{}_.pth'.format(epoch))"
      ],
      "execution_count": 0,
      "outputs": [
        {
          "output_type": "stream",
          "text": [
            "Epoch 1 || G_loss: 1.5329498236406636 || D_loss: 0.5564369258595367\n",
            "Epoch 2 || G_loss: 1.2858589751477891 || D_loss: 0.5990531109154262\n",
            "Epoch 3 || G_loss: 1.133895427999173 || D_loss: 0.6189287347398503\n",
            "Epoch 4 || G_loss: 1.0424635885468065 || D_loss: 0.6309133710879511\n",
            "Epoch 5 || G_loss: 0.967129300247761 || D_loss: 0.6460659252247288\n",
            "Epoch 6 || G_loss: 0.9323032888097025 || D_loss: 0.6508059439488275\n",
            "Epoch 7 || G_loss: 0.9067564338579135 || D_loss: 0.6561434090480694\n",
            "Epoch 8 || G_loss: 0.8960834864386366 || D_loss: 0.6606628908915773\n",
            "Epoch 9 || G_loss: 0.8785627251318152 || D_loss: 0.6636681763773459\n",
            "Epoch 10 || G_loss: 0.8634224061926282 || D_loss: 0.6677855755835866\n",
            "Epoch 11 || G_loss: 0.8583885295911241 || D_loss: 0.669143032852229\n",
            "Epoch 12 || G_loss: 0.8552864090571095 || D_loss: 0.6707005879090371\n",
            "Epoch 13 || G_loss: 0.8468283362977411 || D_loss: 0.6747483720553661\n",
            "Epoch 14 || G_loss: 0.8303324440237961 || D_loss: 0.6775244929740158\n",
            "Epoch 15 || G_loss: 0.837846108567463 || D_loss: 0.6748113658896487\n",
            "Epoch 16 || G_loss: 0.8349236588941807 || D_loss: 0.6757940308298732\n",
            "Epoch 17 || G_loss: 0.8274291495215184 || D_loss: 0.6781793812948851\n",
            "Epoch 18 || G_loss: 0.8284685989259072 || D_loss: 0.6783465143204955\n",
            "Epoch 19 || G_loss: 0.8271967344991838 || D_loss: 0.6781989572449365\n",
            "Epoch 20 || G_loss: 0.8296539585176982 || D_loss: 0.6782478866711383\n",
            "Epoch 21 || G_loss: 0.8221055529701808 || D_loss: 0.6802877614456952\n",
            "Epoch 22 || G_loss: 0.8221222357115376 || D_loss: 0.6801535611112989\n",
            "Epoch 23 || G_loss: 0.827310903668785 || D_loss: 0.6786951383031185\n",
            "Epoch 24 || G_loss: 0.8324463781605755 || D_loss: 0.6762351957331539\n",
            "Epoch 25 || G_loss: 0.8347338796882239 || D_loss: 0.676166568859525\n",
            "Epoch 26 || G_loss: 0.827472069937681 || D_loss: 0.6791509531738662\n",
            "Epoch 27 || G_loss: 0.822830153785298 || D_loss: 0.6802155239720873\n",
            "Epoch 28 || G_loss: 0.8173297574256219 || D_loss: 0.6813897991592276\n",
            "Epoch 29 || G_loss: 0.8174413366723503 || D_loss: 0.6818515941338591\n",
            "Epoch 30 || G_loss: 0.8216991067237757 || D_loss: 0.6799012438578249\n",
            "Epoch 31 || G_loss: 0.8197920696901649 || D_loss: 0.6813263731817366\n",
            "Epoch 32 || G_loss: 0.8190819119232554 || D_loss: 0.6808850303416213\n",
            "Epoch 33 || G_loss: 0.8167907283310698 || D_loss: 0.6813700180059813\n",
            "Epoch 34 || G_loss: 0.8171697598348728 || D_loss: 0.6823571837642448\n",
            "Epoch 35 || G_loss: 0.8164994248730665 || D_loss: 0.6818930313744304\n",
            "Epoch 36 || G_loss: 0.818479451626749 || D_loss: 0.6811132381836421\n",
            "Epoch 37 || G_loss: 0.8185650737180362 || D_loss: 0.6805039147345286\n",
            "Epoch 38 || G_loss: 0.820176441587093 || D_loss: 0.6817809885614435\n",
            "Epoch 39 || G_loss: 0.8152306804425123 || D_loss: 0.6822251457475502\n",
            "Epoch 40 || G_loss: 0.8168375675905536 || D_loss: 0.6823716628498094\n",
            "Epoch 41 || G_loss: 0.8157861625545695 || D_loss: 0.6810578305371968\n",
            "Epoch 42 || G_loss: 0.816794412874367 || D_loss: 0.6829713883494538\n",
            "Epoch 43 || G_loss: 0.8180198915402858 || D_loss: 0.6815812102282421\n",
            "Epoch 44 || G_loss: 0.8234797066324274 || D_loss: 0.6797238798074362\n",
            "Epoch 45 || G_loss: 0.8168793277944881 || D_loss: 0.6820468298533141\n",
            "Epoch 46 || G_loss: 0.8152903213153188 || D_loss: 0.6826832977839181\n",
            "Epoch 47 || G_loss: 0.812391868632189 || D_loss: 0.6827575334813147\n",
            "Epoch 48 || G_loss: 0.8151073611781754 || D_loss: 0.6823343963327121\n",
            "Epoch 49 || G_loss: 0.8182207112959082 || D_loss: 0.682694575760659\n",
            "Epoch 50 || G_loss: 0.8187007366733832 || D_loss: 0.6806081633345104\n",
            "Epoch 51 || G_loss: 0.8202335330361521 || D_loss: 0.6809641109089476\n",
            "Epoch 52 || G_loss: 0.8201240769427172 || D_loss: 0.6818489697752896\n",
            "Epoch 53 || G_loss: 0.8140704216899127 || D_loss: 0.6827440279001467\n",
            "Epoch 54 || G_loss: 0.8165178052218236 || D_loss: 0.6827779825269147\n",
            "Epoch 55 || G_loss: 0.8122445132132913 || D_loss: 0.6833875829107244\n",
            "Epoch 56 || G_loss: 0.8132987991023048 || D_loss: 0.6834711892362291\n",
            "Epoch 57 || G_loss: 0.8158429956024301 || D_loss: 0.6828029126748776\n",
            "Epoch 58 || G_loss: 0.8170180936234926 || D_loss: 0.6824868100999795\n",
            "Epoch 59 || G_loss: 0.814763653263097 || D_loss: 0.6823795258198041\n",
            "Epoch 60 || G_loss: 0.8149410671556293 || D_loss: 0.6831580556438126\n",
            "Epoch 61 || G_loss: 0.8164624541673764 || D_loss: 0.6821515105583694\n",
            "Epoch 62 || G_loss: 0.818204527509876 || D_loss: 0.6824323933473857\n",
            "Epoch 63 || G_loss: 0.818070805957511 || D_loss: 0.6821578319684405\n",
            "Epoch 64 || G_loss: 0.8141939653010988 || D_loss: 0.683688778489809\n",
            "Epoch 65 || G_loss: 0.8162449742080459 || D_loss: 0.6823037693840681\n",
            "Epoch 66 || G_loss: 0.8126507903319936 || D_loss: 0.6833089859304105\n",
            "Epoch 67 || G_loss: 0.8128972678556705 || D_loss: 0.6823229066698656\n",
            "Epoch 68 || G_loss: 0.8224256185484634 || D_loss: 0.6817406689365628\n",
            "Epoch 69 || G_loss: 0.8176919375179825 || D_loss: 0.6827614843959772\n",
            "Epoch 70 || G_loss: 0.8149852586036604 || D_loss: 0.6825977383099224\n",
            "Epoch 71 || G_loss: 0.816889929984978 || D_loss: 0.6823983408286644\n",
            "Epoch 72 || G_loss: 0.8153616077840442 || D_loss: 0.6833022575079442\n",
            "Epoch 73 || G_loss: 0.8147209340078435 || D_loss: 0.6830064233723773\n",
            "Epoch 74 || G_loss: 0.8127166273040186 || D_loss: 0.6844980475312231\n",
            "Epoch 75 || G_loss: 0.8195576040087338 || D_loss: 0.6818650218056931\n",
            "Epoch 76 || G_loss: 0.8178066772218705 || D_loss: 0.6823198733921625\n",
            "Epoch 77 || G_loss: 0.8159872571856107 || D_loss: 0.6834135448711466\n",
            "Epoch 78 || G_loss: 0.815589270756478 || D_loss: 0.6829700549672372\n",
            "Epoch 79 || G_loss: 0.8178643471372486 || D_loss: 0.6821446455752933\n",
            "Epoch 80 || G_loss: 0.817390459627199 || D_loss: 0.683125926528462\n",
            "Epoch 81 || G_loss: 0.8176885780735955 || D_loss: 0.6822037565273424\n",
            "Epoch 82 || G_loss: 0.8197627650646544 || D_loss: 0.6821264203587787\n",
            "Epoch 83 || G_loss: 0.8149783769556901 || D_loss: 0.6831715188191171\n",
            "Epoch 84 || G_loss: 0.8153559497664239 || D_loss: 0.6833931856329291\n",
            "Epoch 85 || G_loss: 0.8143259242262813 || D_loss: 0.683111567453017\n",
            "Epoch 86 || G_loss: 0.8111648286906711 || D_loss: 0.6847822041520688\n",
            "Epoch 87 || G_loss: 0.8169643537249233 || D_loss: 0.6826942680512036\n",
            "Epoch 88 || G_loss: 0.8120108813104612 || D_loss: 0.6843960055615455\n",
            "Epoch 89 || G_loss: 0.8125985579389986 || D_loss: 0.6832299058969709\n",
            "Epoch 90 || G_loss: 0.8158115812851997 || D_loss: 0.6826103446350903\n",
            "Epoch 91 || G_loss: 0.8186116058400863 || D_loss: 0.6827512831925888\n",
            "Epoch 92 || G_loss: 0.817171101911817 || D_loss: 0.682600081043219\n"
          ],
          "name": "stdout"
        }
      ]
    },
    {
      "cell_type": "code",
      "metadata": {
        "id": "YFaE_8DH1E21",
        "colab_type": "code",
        "colab": {}
      },
      "source": [
        ""
      ],
      "execution_count": 0,
      "outputs": []
    },
    {
      "cell_type": "code",
      "metadata": {
        "id": "C94t8Rp4kxYn",
        "colab_type": "code",
        "outputId": "2f002383-ffb3-4a27-c5a6-625136d36ddc",
        "colab": {
          "base_uri": "https://localhost:8080/",
          "height": 122
        }
      },
      "source": [
        "from google.colab import drive\n",
        "drive.mount('/content/drive')"
      ],
      "execution_count": 2,
      "outputs": [
        {
          "output_type": "stream",
          "text": [
            "Go to this URL in a browser: https://accounts.google.com/o/oauth2/auth?client_id=947318989803-6bn6qk8qdgf4n4g3pfee6491hc0brc4i.apps.googleusercontent.com&redirect_uri=urn%3aietf%3awg%3aoauth%3a2.0%3aoob&response_type=code&scope=email%20https%3a%2f%2fwww.googleapis.com%2fauth%2fdocs.test%20https%3a%2f%2fwww.googleapis.com%2fauth%2fdrive%20https%3a%2f%2fwww.googleapis.com%2fauth%2fdrive.photos.readonly%20https%3a%2f%2fwww.googleapis.com%2fauth%2fpeopleapi.readonly\n",
            "\n",
            "Enter your authorization code:\n",
            "··········\n",
            "Mounted at /content/drive\n"
          ],
          "name": "stdout"
        }
      ]
    }
  ]
}